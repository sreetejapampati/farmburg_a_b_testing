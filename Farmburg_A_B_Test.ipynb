{
 "cells": [
  {
   "cell_type": "code",
   "execution_count": 1,
   "id": "56d044a6",
   "metadata": {},
   "outputs": [],
   "source": [
    "import pandas as pd\n",
    "import numpy as np"
   ]
  },
  {
   "cell_type": "code",
   "execution_count": 2,
   "id": "7b541ecd",
   "metadata": {},
   "outputs": [],
   "source": [
    "abdata = pd.read_csv('clicks.csv')"
   ]
  },
  {
   "cell_type": "code",
   "execution_count": 3,
   "id": "f67602cc",
   "metadata": {},
   "outputs": [
    {
     "name": "stdout",
     "output_type": "stream",
     "text": [
      "    user_id group is_purchase\n",
      "0  8e27bf9a     A          No\n",
      "1  eb89e6f0     A          No\n",
      "2  7119106a     A          No\n",
      "3  e53781ff     A          No\n",
      "4  02d48cf1     A         Yes\n"
     ]
    }
   ],
   "source": [
    "print(abdata.head())"
   ]
  },
  {
   "cell_type": "markdown",
   "id": "e7810ef3",
   "metadata": {},
   "source": [
    "We are interested in whether visitors are more likely to make a purchase if they are in any one group compared to the others. Because we want to know if there is an association between two categorical variables, we’ll start by using a Chi-Square test"
   ]
  },
  {
   "cell_type": "code",
   "execution_count": 4,
   "id": "56b48a50",
   "metadata": {},
   "outputs": [
    {
     "name": "stdout",
     "output_type": "stream",
     "text": [
      "is_purchase    No  Yes\n",
      "group                 \n",
      "A            1350  316\n",
      "B            1483  183\n",
      "C            1583   83\n"
     ]
    }
   ],
   "source": [
    "Xtab = pd.crosstab(abdata.group, abdata.is_purchase)\n",
    "print(Xtab)"
   ]
  },
  {
   "cell_type": "code",
   "execution_count": 5,
   "id": "a08a5c7d",
   "metadata": {},
   "outputs": [],
   "source": [
    "from scipy.stats import chi2_contingency"
   ]
  },
  {
   "cell_type": "code",
   "execution_count": 8,
   "id": "806f7338",
   "metadata": {},
   "outputs": [
    {
     "name": "stdout",
     "output_type": "stream",
     "text": [
      "2.4126213546684264e-35\n",
      "There is a significant difference in the purchase rate for groups A, B, and C\n"
     ]
    }
   ],
   "source": [
    "chi2, pval, dof, expected = chi2_contingency(Xtab)\n",
    "print(pval)\n",
    "if pval<0.05:\n",
    "    print(\"There is a significant difference in the purchase rate for groups A, B, and C\")\n",
    "else:\n",
    "    print(\"There is no significant difference in the purchase rate for groups A,B, and C\")"
   ]
  },
  {
   "cell_type": "code",
   "execution_count": 10,
   "id": "cfedb9ac",
   "metadata": {},
   "outputs": [
    {
     "name": "stdout",
     "output_type": "stream",
     "text": [
      "4998\n"
     ]
    }
   ],
   "source": [
    "num_visits = len(abdata)\n",
    "print(num_visits)"
   ]
  },
  {
   "cell_type": "code",
   "execution_count": 11,
   "id": "4d52825a",
   "metadata": {},
   "outputs": [
    {
     "name": "stdout",
     "output_type": "stream",
     "text": [
      "1010.1010101010102\n",
      "0.20210104243717691\n"
     ]
    }
   ],
   "source": [
    "num_sales_needed_099 = 1000/0.99\n",
    "print(num_sales_needed_099)\n",
    "p_sales_needed_099 = num_sales_needed_099/num_visits\n",
    "print(p_sales_needed_099)"
   ]
  },
  {
   "cell_type": "code",
   "execution_count": 12,
   "id": "156a9467",
   "metadata": {},
   "outputs": [
    {
     "name": "stdout",
     "output_type": "stream",
     "text": [
      "502.51256281407035\n",
      "0.10054272965467594\n"
     ]
    }
   ],
   "source": [
    "num_sales_needed_199 = 1000/1.99\n",
    "print(num_sales_needed_199)\n",
    "p_sales_needed_199 = num_sales_needed_199/num_visits\n",
    "print(p_sales_needed_199)"
   ]
  },
  {
   "cell_type": "code",
   "execution_count": 14,
   "id": "a25455b5",
   "metadata": {},
   "outputs": [
    {
     "name": "stdout",
     "output_type": "stream",
     "text": [
      "200.40080160320642\n",
      "0.040096198800161346\n"
     ]
    }
   ],
   "source": [
    "num_sales_needed_499 = 1000/4.99\n",
    "print(num_sales_needed_499)\n",
    "p_sales_needed_499 = num_sales_needed_499/num_visits\n",
    "print(p_sales_needed_499)"
   ]
  },
  {
   "cell_type": "markdown",
   "id": "b21014cc",
   "metadata": {},
   "source": [
    "we want to know if the percent of Group A (the 0.99 price point) that purchased an upgrade package is significantly greater than p_sales_needed_099 (the percent of visitors who need to buy an upgrade package at 0.99 in order to make our minimum revenue target of 1,000). To answer this question, we want to focus on just the visitors in group A. Then, we want to compare the number of purchases in that group to p_sales_needed_099. Since we have a single sample of categorical data and want to compare it to a hypothetical population value, a binomial test is appropriate. In order to run a binomial test for group A, we need to know two pieces of information: The number of visitors in group A (the number of visitors who were offered the 0.99 price point); The number of visitors in Group A who made a purchase"
   ]
  },
  {
   "cell_type": "code",
   "execution_count": 22,
   "id": "ad7fee01",
   "metadata": {},
   "outputs": [
    {
     "name": "stdout",
     "output_type": "stream",
     "text": [
      "1666\n",
      "316\n"
     ]
    }
   ],
   "source": [
    "samp_size_099 = np.sum(abdata.group==\"A\")\n",
    "sales_099 = np.sum((abdata.group==\"A\") & (abdata.is_purchase == \"Yes\"))\n",
    "print(samp_size_099)\n",
    "print(sales_099)"
   ]
  },
  {
   "cell_type": "code",
   "execution_count": 34,
   "id": "6672d903",
   "metadata": {},
   "outputs": [
    {
     "name": "stdout",
     "output_type": "stream",
     "text": [
      "1666\n",
      "183\n"
     ]
    }
   ],
   "source": [
    "samp_size_199 = np.sum(abdata.group == 'B')\n",
    "sales_199 = np.sum((abdata.group == 'B') & (abdata.is_purchase == 'Yes'))\n",
    "print(samp_size_199)\n",
    "print(sales_199)"
   ]
  },
  {
   "cell_type": "code",
   "execution_count": 35,
   "id": "d2422519",
   "metadata": {},
   "outputs": [
    {
     "name": "stdout",
     "output_type": "stream",
     "text": [
      "1666\n",
      "83\n"
     ]
    }
   ],
   "source": [
    "samp_size_499 = np.sum(abdata.group==\"C\")\n",
    "sales_499 = np.sum((abdata.group==\"C\") & (abdata.is_purchase == \"Yes\"))\n",
    "print(samp_size_499)\n",
    "print(sales_499)"
   ]
  },
  {
   "cell_type": "code",
   "execution_count": 36,
   "id": "04e1ca6a",
   "metadata": {},
   "outputs": [],
   "source": [
    "from scipy.stats import binom_test"
   ]
  },
  {
   "cell_type": "code",
   "execution_count": 42,
   "id": "553694ca",
   "metadata": {},
   "outputs": [
    {
     "name": "stdout",
     "output_type": "stream",
     "text": [
      "0.9028081076188554\n",
      "The purchase rate for 0.99 (Group A) is NOT significantly higher than the target needed to reach $1000 revenue per week.\n"
     ]
    }
   ],
   "source": [
    "pvalueA = binom_test(sales_099, n=samp_size_099, p=p_sales_needed_099, alternative='greater')\n",
    "print(pvalueA)\n",
    "if pvalueA < 0.05:\n",
    "    print(\"The purchase rate for 0.99 (Group A) is significantly higher than the target needed to reach $1000 revenue per week.\")\n",
    "else:\n",
    "    print(\"The purchase rate for 0.99 (Group A) is NOT significantly higher than the target needed to reach $1000 revenue per week.\")"
   ]
  },
  {
   "cell_type": "code",
   "execution_count": 46,
   "id": "88f2c78b",
   "metadata": {},
   "outputs": [
    {
     "name": "stdout",
     "output_type": "stream",
     "text": [
      "1.4574710785649957e-33\n",
      "The purchase rate for 1.99 (Group B) is significantly higher than the target needed to reach $1000 revenue per week.\n"
     ]
    }
   ],
   "source": [
    "pvalueB = binom_test(sales_199, n=samp_size_199, p=p_sales_needed_199, alternative='greater')\n",
    "print(pvalueB)\n",
    "if pvalueB < 0.05:\n",
    "    print(\"The purchase rate for 1.99 (Group B) is significantly higher than the target needed to reach $1000 revenue per week.\")\n",
    "else:\n",
    "    print(\"The purchase rate for 1.99 (Group B) is NOT significantly higher than the target needed to reach $1000 revenue per week.\")"
   ]
  },
  {
   "cell_type": "code",
   "execution_count": 47,
   "id": "4befabf6",
   "metadata": {},
   "outputs": [
    {
     "name": "stdout",
     "output_type": "stream",
     "text": [
      "0.02794482665983064\n",
      "The purchase rate for 4.99 (Group C) is significantly higher than the target needed to reach $1000 revenue per week.\n"
     ]
    }
   ],
   "source": [
    "pvalueC = binom_test(sales_499, n=samp_size_499, p=p_sales_needed_499, alternative='greater')\n",
    "print(pvalueC)\n",
    "if pvalueC < 0.05:\n",
    "    print(\"The purchase rate for 4.99 (Group C) is significantly higher than the target needed to reach $1000 revenue per week.\")\n",
    "else:\n",
    "    print(\"The purchase rate for 4.99 (Group C) is NOT significantly higher than the target needed to reach $1000 revenue per week.\")"
   ]
  },
  {
   "cell_type": "code",
   "execution_count": null,
   "id": "0d9a7bbe",
   "metadata": {},
   "outputs": [],
   "source": []
  },
  {
   "cell_type": "code",
   "execution_count": null,
   "id": "24d2b526",
   "metadata": {},
   "outputs": [],
   "source": []
  }
 ],
 "metadata": {
  "kernelspec": {
   "display_name": "Python 3 (ipykernel)",
   "language": "python",
   "name": "python3"
  },
  "language_info": {
   "codemirror_mode": {
    "name": "ipython",
    "version": 3
   },
   "file_extension": ".py",
   "mimetype": "text/x-python",
   "name": "python",
   "nbconvert_exporter": "python",
   "pygments_lexer": "ipython3",
   "version": "3.9.7"
  }
 },
 "nbformat": 4,
 "nbformat_minor": 5
}
